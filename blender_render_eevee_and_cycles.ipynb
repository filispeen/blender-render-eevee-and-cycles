{
  "nbformat": 4,
  "nbformat_minor": 0,
  "metadata": {
    "colab": {
      "private_outputs": true,
      "provenance": [],
      "include_colab_link": true
    },
    "kernelspec": {
      "name": "python3",
      "display_name": "Python 3"
    },
    "accelerator": "GPU",
    "gpuClass": "standard"
  },
  "cells": [
    {
      "cell_type": "markdown",
      "metadata": {
        "id": "view-in-github",
        "colab_type": "text"
      },
      "source": [
        "<a href=\"https://colab.research.google.com/github/filispeen/blender-render-eevee-and-cycles/blob/main/blender_render_eevee_and_cycles.ipynb\" target=\"_parent\"><img src=\"https://colab.research.google.com/assets/colab-badge.svg\" alt=\"Open In Colab\"/></a>"
      ]
    },
    {
      "cell_type": "markdown",
      "source": [
        "# Setup\n",
        "**Make sure to read the instructions carefully!**\n",
        "\n",
        "If you have other resources used in the Blender project and chose to *make all paths relative*, pack all of them into a zip archive. Alternatively, you can *pack all external file*.\n",
        "\n",
        "* `blender_version` : Unable to change version beacause linux eevee render support only blender 3.4.\n",
        "* `blend_file_path` : Path to the blend file after unpacking the zip archive. If blend file is used, this is automatically ignored.\n",
        "___\n",
        "* `upload_type` : Select the type of upload method. `gdrive_relative` pulls everything from the folder specified.\n",
        "* `drive_path` : Path to your blend/zip file relative to the root of your Google Drive if `google_drive` is selected. Must  state the file and its extension (.zip/.blend) **unless** `gdrive_relative` is selected.\n",
        "* `url_blend` : Specify the URL to the blend/zip file if `url` is selected.\n",
        "___\n",
        "* `animation` : Specify whether animation or still image is rendered. If **still image** is used, put the frame number in `start_frame`.\n",
        "* `start_frame, end_frame` : Specify the start and end frame for animation. You may put same value such as zero for both input to set the default frame in the blend file.\n",
        "___\n",
        "* `download_type` : Select the type of download method. `gdrive_direct` enables the frames to be outputted directly to Google Drive (zipping will be disabled).\n",
        "* `output_name` : Name of the output frames, **do NOT include .blend!** (## for frame number)\n",
        "* `zip_files` : Archive multiple animation frames automatically into a zip file.\n",
        "* `drive_output_path` : Path to your frames/zip file in Google Drive.\n",
        "___\n",
        "* `gpu_enabled, cpu_enabled` : Toggle GPU and CPU for rendering. CPU might give a slight boost in rendering time but may varies depend on the project.\n",
        "* `optix_enable` : Enable OptiX which may boost performance, may be incompatible depending on the version of blender, project and GPU allocated\n",
        "\n",
        "After you are done, go to Runtime > Run All (Ctrl + F9) and upload your files or have Google Drive authorised below. See the [GitHub repo](https://github.com/filispeen/blender-render-eevee-and-cycles) for more information."
      ],
      "metadata": {
        "id": "rRIP1w984xJ2"
      }
    },
    {
      "cell_type": "code",
      "source": [
        "#@title Settings\n",
        "blend_file_path = 'path/to/blend/file.blend' #@param {type:\"string\"}\n",
        "upload_type = \"google_drive\" #@param [\"direct\", \"google_drive\"]\n",
        "#@markdown\n",
        "output_folder = 'path/there/frames/saves/' #@param {type:\"string\"}\n",
        "download_type = \"google_drive\" #@param [\"direct\", \"google_drive\"]\n",
        "#@markdown\n",
        "engine = \"EEVEE\" #@param [\"EEVEE\", \"CYCLES\"]\n",
        "frame_start = \"1\" #@param {type:\"string\"}\n",
        "frame_end = \"250\" #@param {type:\"string\"}\n",
        "animation = False #@param {type:\"boolean\"}\n",
        "#@markdown\n",
        "optix_enabled = False #@param{type:\"boolean\"}\n",
        "cpu_enabled = False #@param{type:\"boolean\"}"
      ],
      "metadata": {
        "id": "YEwEm2sFiRhN"
      },
      "execution_count": null,
      "outputs": []
    },
    {
      "cell_type": "code",
      "source": [
        "#@title Checking for GPU\n",
        "import os\n",
        "import shutil\n",
        "\n",
        "!apt install toilet\n",
        "\n",
        "!toilet SCRIPT BY \n",
        "!toilet FILISPEEN\n",
        "\n",
        "gpu = !nvidia-smi --query-gpu=gpu_name --format=csv,noheader\n",
        "print(\"Current GPU: \" + gpu[0])\n",
        "\n",
        "if gpu[0] == \"Tesla K80\" and optix_enabled:\n",
        "  print(\"OptiX disabled because of unsupported GPU\")\n",
        "  optix_enabled = False\n",
        "\n",
        "if gpu[0] == \"NVIDIA-SMI has failed because it couldn't communicate with the NVIDIA driver. Make sure that the latest NVIDIA driver is installed and running.\" and engine == \"EEVEE\":\n",
        "  raise SystemExit(\"EEVEE engine workig only with GPU. Swtith to CYCLES engine.\")\n",
        "\n",
        "def find(name, path):\n",
        "    for root, dirs, files in os.walk(path):\n",
        "        if name in files:\n",
        "            return os.path.join(os.path.relpath(root,start = os.curdir), name)"
      ],
      "metadata": {
        "id": "Q2aCyB_a9Kb1"
      },
      "execution_count": null,
      "outputs": []
    },
    {
      "cell_type": "code",
      "metadata": {
        "id": "h_E1kl9W4iV8"
      },
      "source": [
        "#@title Connect Google Drive to Google Colab\n",
        "from google.colab import drive\n",
        "\n",
        "if upload_type == 'google_drive' or upload_type == 'gdrive_relative' or download_type == 'google_drive' or download_type == 'gdrive_direct':\n",
        "    drive.mount('/drive')\n",
        "\n",
        "if upload_type == 'direct':\n",
        "    uploaded = files.upload()\n",
        "    for fn in uploaded.keys():\n",
        "        uploaded_filename = fn\n",
        "        !cp /content/*.blend /content/blendfile.blend\n",
        "elif upload_type == 'url':\n",
        "    !wget -nc $url_blend\n",
        "    uploaded_filename = os.path.basename(url_blend)\n",
        "elif upload_type == 'google_drive':\n",
        "    shutil.copy('/drive/My Drive/' + blend_file_path, '.')\n",
        "    uploaded_filename = os.path.basename(blend_file_path)"
      ],
      "execution_count": null,
      "outputs": []
    },
    {
      "cell_type": "code",
      "metadata": {
        "id": "ldykR0fMftHt"
      },
      "source": [
        "#@title Download Blender 3.4 from Blender Repository. \n",
        "!wget -nc https://builder.blender.org/download/daily/blender-3.4.1-stable+v34.ef9ca44dee7f-linux.x86_64-release.tar.xz -O BlenderDownload.tar.xz\n",
        "#Copy Blender archive\n",
        "!cp /content/drive/MyDrive/Blender/BlenderDownload.tar.xz /content/BlenderDownload.tar.xz\n",
        "#unarchive blender\n",
        "!tar xf /content/BlenderDownload.tar.xz"
      ],
      "execution_count": null,
      "outputs": []
    },
    {
      "cell_type": "code",
      "source": [
        "#@title Enable GPU rendering for cycles (or add custom properties here)\n",
        "data = \"import re\\n\"+\\\n",
        "    \"import bpy\\n\"+\\\n",
        "    \"scene = bpy.context.scene\\n\"+\\\n",
        "    \"scene.cycles.device = 'GPU'\\n\"+\\\n",
        "    \"prefs = bpy.context.preferences\\n\"+\\\n",
        "    \"prefs.addons['cycles'].preferences.get_devices()\\n\"+\\\n",
        "    \"cprefs = prefs.addons['cycles'].preferences\\n\"+\\\n",
        "    \"print(cprefs)\\n\"+\\\n",
        "    \"for compute_device_type in ('CUDA', 'OPENCL', 'NONE'):\\n\"+\\\n",
        "    \"    try:\\n\"+\\\n",
        "    \"        cprefs.compute_device_type = compute_device_type\\n\"+\\\n",
        "    \"        print('Device found:',compute_device_type)\\n\"+\\\n",
        "    \"        break\\n\"+\\\n",
        "    \"    except TypeError:\\n\"+\\\n",
        "    \"        pass\\n\"+\\\n",
        "    \"for device in cprefs.devices:\\n\"+\\\n",
        "    \"    if not re.match('intel', device.name, re.I):\\n\"+\\\n",
        "    \"        print('Activating',device)\\n\"+\\\n",
        "    \"        device.use = \"+str(gpu_enabled)+\"\\n\"+\\\n",
        "    \"    else:\\n\"+\\\n",
        "    \"        device.use = \"+str(cpu_enabled)+\"\\n\"\n",
        "with open('setgpu.py', 'w') as f:\n",
        "    f.write(data)\n",
        "\n",
        "renderer = \"CUDA\"\n",
        "if optix_enabled:\n",
        "    print(\"Note: You're currently using OptiX renderer. If an error occurred, the current GPU (example: Tesla K80) is not supported and you need to switch back to Cycles.\")\n",
        "    renderer = \"OPTIX\"\n",
        "if engine == \"EEVEE\"\n",
        "    print(\"Note: You`re currently using cpu\")\n",
        "    cpu_enabled = False\n",
        "    renderer = \"CUDA\"\n"
      ],
      "metadata": {
        "id": "shCFVsJ6v8ur"
      },
      "execution_count": null,
      "outputs": []
    },
    {
      "cell_type": "code",
      "metadata": {
        "id": "_p77a65khTRB"
      },
      "source": [
        "#@title Rendering\n",
        "shutil.copy('/content/drive/MyDrive/' + blend_file_path, 'blendfile.blend')\n",
        "\n",
        "!mkdir /content/render\n",
        "\n",
        "output('/content/drive/MyDrive/' + output_folder)\n",
        "print(output)\n",
        "\n",
        "if engine == \"EEVEE\"\n",
        "if animation:\n",
        "    if frame_start == frame_end:\n",
        "        !./Blender/blender -b '/content/blendfile.blend' -noaudio -o '/content/render/' -a -F 'PNG'\n",
        "    else:\n",
        "        !./Blender/blender -b '/content/blendfile.blend' -noaudio -o '/content/render/' -a -s $frame_start -e $frame_end -F 'PNG'\n",
        "else:\n",
        "    !./Blender/blender -b '/content/blendfile.blend' -noaudio -o '/content/render/' -s $frame_start -F 'PNG'\n",
        "\n",
        "if engine == \"CYCLES\"\n",
        "if animation:\n",
        "    if frame_start == frame_end:\n",
        "        !./$blender_version/blender -b '/content/blendfile.blend' -P setgpu.py -E CYCLES -o '/content/render/' -noaudio -a -- --cycles-device \"{renderer}\"\n",
        "    else:\n",
        "        !./$blender_version/blender -b '/content/blendfile.blend' -P setgpu.py -E CYCLES -o '/content/render/' -noaudio -s $frame_start -e $frame_end -a -- --cycles-device \"{renderer}\"\n",
        "else:\n",
        "    !./$blender_version/blender -b '/content/blendfile.blend' -P setgpu.py -E CYCLES -o '/content/render/' -noaudio -f $frame_end -- --cycles-device \"{renderer}\""
      ],
      "execution_count": null,
      "outputs": []
    },
    {
      "cell_type": "code",
      "source": [
        "#@title Saving frames\n",
        "%cd /content/render/\n",
        "\n",
        "\n",
        "if download_type == \"google_drive\"\n",
        "    shutil.make_archive('.', 'zip', '/content/render/output')\n",
        "    shutil.copy('output.zip', '/content/drive/MyDrive/' + output_folder)\n",
        "\n",
        "if download_type == \"direct\"\n",
        "    shutil.make_archive('.', 'zip', '/content/render/output')\n",
        "    files.download('output.zip')\n",
        "\n",
        "else:\n",
        "    raise SystemExit(\"No frames are rendered.\")"
      ],
      "metadata": {
        "id": "hIo_1DF1fFEV"
      },
      "execution_count": null,
      "outputs": []
    },
    {
      "cell_type": "markdown",
      "source": [
        "## Disclaimer\n",
        "Google Colab is targeted to researchers and students to run AI/ML tasks, data analysis and education, not rendering 3D scenes. Because the computing power provided are free, the usage limits, idle timeouts and speed of the rendering may varies time by time. [Colab Pro and Colab Pro+](https://colab.research.google.com/signup) are available for those who wanted to have more powerful GPU and longer runtimes for rendering. See the [FAQ](https://research.google.com/colaboratory/faq.html) for more info. In some cases, it might be faster to use an online Blender renderfarm.\n",
        "\n",
        "## License\n",
        "```\n",
        "MIT License\n",
        "\n",
        "Copyright (c) 2020-2023 ynshung\n",
        "\n",
        "Permission is hereby granted, free of charge, to any person obtaining a copy\n",
        "of this software and associated documentation files (the \"Software\"), to deal\n",
        "in the Software without restriction, including without limitation the rights\n",
        "to use, copy, modify, merge, publish, distribute, sublicense, and/or sell\n",
        "copies of the Software, and to permit persons to whom the Software is\n",
        "furnished to do so, subject to the following conditions:\n",
        "\n",
        "The above copyright notice and this permission notice shall be included in all\n",
        "copies or substantial portions of the Software.\n",
        "\n",
        "THE SOFTWARE IS PROVIDED \"AS IS\", WITHOUT WARRANTY OF ANY KIND, EXPRESS OR\n",
        "IMPLIED, INCLUDING BUT NOT LIMITED TO THE WARRANTIES OF MERCHANTABILITY,\n",
        "FITNESS FOR A PARTICULAR PURPOSE AND NONINFRINGEMENT. IN NO EVENT SHALL THE\n",
        "AUTHORS OR COPYRIGHT HOLDERS BE LIABLE FOR ANY CLAIM, DAMAGES OR OTHER\n",
        "LIABILITY, WHETHER IN AN ACTION OF CONTRACT, TORT OR OTHERWISE, ARISING FROM,\n",
        "OUT OF OR IN CONNECTION WITH THE SOFTWARE OR THE USE OR OTHER DEALINGS IN THE\n",
        "SOFTWARE.\n",
        "```"
      ],
      "metadata": {
        "id": "LImti59-5zdC"
      }
    }
  ]
}